{
 "cells": [
  {
   "cell_type": "code",
   "execution_count": null,
   "id": "67b84de6-4799-49e3-8191-3554848d8429",
   "metadata": {},
   "outputs": [
    {
     "name": "stderr",
     "output_type": "stream",
     "text": [
      "/data/keeling/a/pappup2/miniconda3/lib/python3.9/site-packages/scipy/__init__.py:146: UserWarning: A NumPy version >=1.16.5 and <1.23.0 is required for this version of SciPy (detected version 1.23.5\n",
      "  warnings.warn(f\"A NumPy version >={np_minversion} and <{np_maxversion}\"\n"
     ]
    }
   ],
   "source": [
    "from netCDF4 import Dataset as NetCDFFile\n",
    "import matplotlib.pyplot as plt\n",
    "import numpy as np\n",
    "import xarray as xr\n",
    "import netCDF4 as nc\n",
    "from netCDF4 import Dataset\n",
    "from matplotlib import gridspec\n",
    "import glob\n",
    "\n",
    "data_control_path = glob.glob(\"/data/keeling/a/pappup2/a/CESM/cam5_new/CESM_output_data/atm/hist/*\") #End of year control\n",
    "data_control_last18=data_control_path[24:240] # Get years 3-20\n",
    "data_control_data = xr.open_mfdataset(data_control_last18,combine=\"by_coords\",use_cftime=True)\n",
    "data_control = data_control_data.mean('time') # Average over the last 18 years\n",
    "\n",
    "data_pole_path = glob.glob(\"/data/keeling/a/mailes2/a/CESM_DATA/aqua_poleperturb/outputdata/atm/hist/*\") #End of year expriment-2 extraopical patch\n",
    "data_pole_last18=data_pole_path[24:240] # Get years 3-20\n",
    "data_pole_data = xr.open_mfdataset(data_pole_last18,combine=\"by_coords\",use_cftime=True)\n",
    "data_pole = data_pole_data.mean('time') # Average over the last 18 years\n",
    "\n",
    "\n",
    "data_00_path = glob.glob(\"/data/keeling/a/pappup2/a/CESM/cam_00/CESM_output_data/atm/hist/*\")\n",
    "data_00_last18=data_00_path[24:240] # Get years 3-20\n",
    "data_00_data = xr.open_mfdataset(data_00_last18,combine=\"by_coords\",use_cftime=True)\n",
    "data_00 = data_00_data.mean('time') # Average over the last 18 years\n",
    "\n",
    "\n",
    "data_15_path=glob.glob(\"/data/keeling/a/pappup2/a/CESM/cam_15/CESM_output_data/atm/hist/*\")\n",
    "data_15_last18=data_15_path[24:240] # Get years 3-20\n",
    "data_15_data = xr.open_mfdataset(data_15_last18,combine=\"by_coords\",use_cftime=True)\n",
    "data_15 = data_15_data.mean('time') # Average over the last 18 years\n",
    "\n",
    "data_30_path=glob.glob(\"/data/keeling/a/pappup2/a/CESM/cam_30/CESM_output_data/atm/hist/*\")\n",
    "data_30_last18=data_30_path[24:240] # Get years 3-20\n",
    "data_30_data = xr.open_mfdataset(data_30_last18,combine=\"by_coords\",use_cftime=True)\n",
    "data_30 = data_30_data.mean('time') # Average over the last 18 years\n",
    "\n",
    "\n",
    "data_extratropic_path=glob.glob(\"/data/keeling/a/pappup2/a/CESM/cam_extratropic/CESM_output_data/atm/hist/*\")\n",
    "data_extratropic_last18=data_extratropic_path[24:240] # Get years 3-20\n",
    "data_extratropic_data = xr.open_mfdataset(data_extratropic_last18,combine=\"by_coords\",use_cftime=True)\n",
    "data_extratropic = data_extratropic_data.mean('time') # Average over the last 18 years\n",
    "\n",
    "\n",
    "data_60_path=glob.glob(\"/data/keeling/a/pappup2/a/CESM/cam_60/CESM_output_data/atm/hist/*\")\n",
    "data_60_last18=data_60_path[24:240] # Get years 3-20\n",
    "data_60_data = xr.open_mfdataset(data_60_last18,combine=\"by_coords\",use_cftime=True)\n",
    "data_60 = data_60_data.mean('time') # Average over the last 18 years\n",
    "\n",
    "\n",
    "data_75_path=glob.glob(\"/data/keeling/a/pappup2/a/CESM/cam_75/CESM_output_data/atm/hist/*\")\n",
    "data_75_last18=data_75_path[24:240] # Get years 3-20\n",
    "data_75_data = xr.open_mfdataset(data_75_last18,combine=\"by_coords\",use_cftime=True)\n",
    "data_75 = data_75_data.mean('time') # Average over the last 18 years\n",
    "\n",
    "#surface_t2 = surface_t_2.mean('lon')\n",
    "TOA_flux_exp_minus_control_pole = (data_pole.FSNT.mean('lon')-data_pole.FLNT.mean('lon'))-(data_control.FSNT.mean('lon')-data_control.FLNT.mean('lon'))\n",
    "TOA_flux_exp_minus_control_15 = (data_15.FSNT.mean('lon')-data_15.FLNT.mean('lon'))-(data_control.FSNT.mean('lon')-data_control.FLNT.mean('lon'))\n",
    "TOA_flux_exp_minus_control_30 = (data_30.FSNT.mean('lon')-data_30.FLNT.mean('lon'))-(data_control.FSNT.mean('lon')-data_control.FLNT.mean('lon'))\n",
    "TOA_flux_exp_minus_control_45 = (data_extratropic.FSNT.mean('lon')-data_extratropic.FLNT.mean('lon'))-(data_control.FSNT.mean('lon')-data_control.FLNT.mean('lon'))\n",
    "TOA_flux_exp_minus_control_00 = (data_00.FSNT.mean('lon')-data_00.FLNT.mean('lon'))-(data_control.FSNT.mean('lon')-data_control.FLNT.mean('lon'))\n",
    "TOA_flux_exp_minus_control_60 = (data_60.FSNT.mean('lon')-data_60.FLNT.mean('lon'))-(data_control.FSNT.mean('lon')-data_control.FLNT.mean('lon'))\n",
    "TOA_flux_exp_minus_control_75 = (data_75.FSNT.mean('lon')-data_75.FLNT.mean('lon'))-(data_control.FSNT.mean('lon')-data_control.FLNT.mean('lon'))\n"
   ]
  },
  {
   "cell_type": "code",
   "execution_count": null,
   "id": "c48e8ded-ca6b-4987-bb36-38868490cdba",
   "metadata": {},
   "outputs": [],
   "source": [
    "pp_pole=np.array(TOA_flux_exp_minus_control_pole)\n",
    "#zp= pp.transpose()\n",
    "exp_pole=np.linspace(85,90,96)\n",
    "plat_pole=np.array(TOA_flux_exp_minus_control_pole.lat)\n",
    "expp_pole, ppp_pole=np.meshgrid(exp_pole, pp_pole)\n",
    "#plt.figure(figsize=(10,3))\n",
    "\n",
    "pp_00=np.array(TOA_flux_exp_minus_control_00)\n",
    "#zp= pp.transpose()\n",
    "exp_00=np.linspace(0,30,96)\n",
    "plat_00=np.array(TOA_flux_exp_minus_control_00.lat)\n",
    "expp_00, ppp_00=np.meshgrid(exp_00, pp_00)\n",
    "\n",
    "pp_15=np.array(TOA_flux_exp_minus_control_15)\n",
    "#zp= pp.transpose()\n",
    "exp_15=np.linspace(15,30,96)\n",
    "plat_15=np.array(TOA_flux_exp_minus_control_15.lat)\n",
    "expp_15, ppp_15=np.meshgrid(exp_15, pp_15)\n",
    "\n",
    "pp_30=np.array(TOA_flux_exp_minus_control_30)\n",
    "#zp= pp.transpose()\n",
    "exp_30=np.linspace(30,45,96)\n",
    "plat_30=np.array(TOA_flux_exp_minus_control_30.lat)\n",
    "expp_30, ppp_30=np.meshgrid(exp_30, pp_30)\n",
    "\n",
    "pp_45=np.array(TOA_flux_exp_minus_control_45)\n",
    "#zp= pp.transpose()\n",
    "exp_45=np.linspace(45,60,96)\n",
    "plat_45=np.array(TOA_flux_exp_minus_control_45.lat)\n",
    "expp_45, ppp_45=np.meshgrid(exp_45, pp_45)\n",
    "\n",
    "pp_60=np.array(TOA_flux_exp_minus_control_60)\n",
    "#zp= pp.transpose()\n",
    "exp_60=np.linspace(60,75,96)\n",
    "plat_60=np.array(TOA_flux_exp_minus_control_60.lat)\n",
    "expp_60, ppp_60=np.meshgrid(exp_60, pp_60)\n",
    "\n",
    "pp_75=np.array(TOA_flux_exp_minus_control_75)\n",
    "#zp= pp.transpose()\n",
    "exp_75=np.linspace(75,90,96)\n",
    "plat_75=np.array(TOA_flux_exp_minus_control_75.lat)\n",
    "expp_75, ppp_75=np.meshgrid(exp_75, pp_75)"
   ]
  },
  {
   "cell_type": "code",
   "execution_count": null,
   "id": "965b4672-6e4e-4794-b2c9-4dd130b36725",
   "metadata": {},
   "outputs": [],
   "source": [
    "import numpy as np\n",
    "import matplotlib.pyplot as plt\n",
    "from matplotlib import gridspec\n",
    "from mpl_toolkits.axes_grid1 import ImageGrid\n",
    "import pylab\n",
    "\n",
    "nrow = 1\n",
    "ncol = 3\n",
    "fig = plt.figure(figsize=(25, 20))\n",
    "grid = ImageGrid(fig, \n",
    "                 111, # as in plt.subplot(111)\n",
    "                 nrows_ncols=(nrow,ncol),\n",
    "                 axes_pad=0,\n",
    "                 share_all=True,)\n",
    "\n",
    "#for i in range(1):\n",
    "#    for j in range(2):\n",
    "im = np.random.rand(28,28)\n",
    "gs = gridspec.GridSpec(7, 7)\n",
    "gs.update(wspace=0)\n",
    "\n",
    "plt.subplot(gs[0,0])\n",
    "plt.pcolormesh(expp_00,plat_00,ppp_00,cmap='RdBu_r',vmin=-30, vmax=30)\n",
    "plt.yticks(np.arange(-90, 91, 30))\n",
    "plt.xticks([])\n",
    "plt.xlabel(\"00 patch\")\n",
    "\n",
    "plt.subplot(gs[0,1])\n",
    "plt.pcolormesh(expp_15,plat_15,ppp_15,cmap='RdBu_r',vmin=-30, vmax=30)\n",
    "plt.xticks([])\n",
    "plt.xlabel(\"15 patch\")\n",
    "ax = pylab.gca()\n",
    "ax.yaxis.set_visible(False)\n",
    "\n",
    "plt.subplot(gs[0,2])\n",
    "plt.pcolormesh(expp_30,plat_30,ppp_30,cmap='RdBu_r',vmin=-30, vmax=30)\n",
    "plt.xticks([])\n",
    "plt.xlabel(\"30 patch\")\n",
    "ax = pylab.gca()\n",
    "ax.yaxis.set_visible(False)\n",
    "\n",
    "plt.subplot(gs[0,3])\n",
    "plt.pcolormesh(expp_45,plat_45,ppp_45,cmap='RdBu_r',vmin=-30, vmax=30)\n",
    "plt.xticks([])\n",
    "plt.xlabel(\"45 patch\")\n",
    "ax = pylab.gca()\n",
    "ax.yaxis.set_visible(False)\n",
    "\n",
    "plt.subplot(gs[0,4])\n",
    "plt.pcolormesh(expp_60,plat_60,ppp_60,cmap='RdBu_r',vmin=-40, vmax=30)\n",
    "plt.xticks([])\n",
    "plt.xlabel(\"60 patch\")\n",
    "ax = pylab.gca()\n",
    "ax.yaxis.set_visible(False)\n",
    "\n",
    "plt.subplot(gs[0,5])\n",
    "plt.pcolormesh(expp_75,plat_75,ppp_75,cmap='RdBu_r',vmin=-30, vmax=30)\n",
    "plt.xticks([])\n",
    "plt.xlabel(\"75 patch\")\n",
    "ax = pylab.gca()\n",
    "ax.yaxis.set_visible(False)\n",
    "\n",
    "plt.subplot(gs[0,6])\n",
    "plt.pcolormesh(expp_pole,plat_pole,ppp_pole,cmap='RdBu_r',vmin=-30, vmax=30)\n",
    "plt.xticks([])\n",
    "plt.xlabel(\"90 patch\")\n",
    "ax = pylab.gca()\n",
    "ax.yaxis.set_visible(False)\n",
    "\n",
    "# Get the current axis\n",
    "ax = pylab.gca()\n",
    "# Set Y-axis visibility to False\n",
    "ax.yaxis.set_visible(False)\n",
    "\n",
    "#        plt.set_yticklabels([])\n",
    "\n",
    "#plt.tight_layout() # do not use this!!\n",
    "plt.subplot(gs[0,6])\n",
    "plt.colorbar()\n",
    "plt.show()\n"
   ]
  },
  {
   "cell_type": "code",
   "execution_count": null,
   "id": "51790dbf-9300-4e50-970e-6488f51090e5",
   "metadata": {},
   "outputs": [],
   "source": [
    "#Surface flux\n",
    "Qs_pole=(-data_pole.FLNS.mean('lon')+data_pole.FSNS.mean('lon')-data_pole.SHFLX.mean('lon')-data_pole.LHFLX.mean('lon'))-(-data_control.FLNS.mean('lon')+data_control.FSNS.mean('lon')-data_control.SHFLX.mean('lon')-data_control.LHFLX.mean('lon'))\n",
    "Qs_00=(-data_00.FLNS.mean('lon')+data_00.FSNS.mean('lon')-data_00.SHFLX.mean('lon')-data_00.LHFLX.mean('lon'))-(-data_control.FLNS.mean('lon')+data_control.FSNS.mean('lon')-data_control.SHFLX.mean('lon')-data_control.LHFLX.mean('lon'))\n",
    "Qs_15=(-data_15.FLNS.mean('lon')+data_15.FSNS.mean('lon')-data_15.SHFLX.mean('lon')-data_15.LHFLX.mean('lon'))-(-data_control.FLNS.mean('lon')+data_control.FSNS.mean('lon')-data_control.SHFLX.mean('lon')-data_control.LHFLX.mean('lon'))\n",
    "Qs_30=(-data_30.FLNS.mean('lon')+data_30.FSNS.mean('lon')-data_30.SHFLX.mean('lon')-data_30.LHFLX.mean('lon'))-(-data_control.FLNS.mean('lon')+data_control.FSNS.mean('lon')-data_control.SHFLX.mean('lon')-data_control.LHFLX.mean('lon'))\n",
    "Qs_45=(-data_extratropic.FLNS.mean('lon')+data_extratropic.FSNS.mean('lon')-data_extratropic.SHFLX.mean('lon')-data_extratropic.LHFLX.mean('lon'))-(-data_control.FLNS.mean('lon')+data_control.FSNS.mean('lon')-data_control.SHFLX.mean('lon')-data_control.LHFLX.mean('lon'))\n",
    "Qs_60=(-data_60.FLNS.mean('lon')+data_60.FSNS.mean('lon')-data_60.SHFLX.mean('lon')-data_60.LHFLX.mean('lon'))-(-data_control.FLNS.mean('lon')+data_control.FSNS.mean('lon')-data_control.SHFLX.mean('lon')-data_control.LHFLX.mean('lon'))\n",
    "Qs_75=(-data_75.FLNS.mean('lon')+data_75.FSNS.mean('lon')-data_75.SHFLX.mean('lon')-data_75.LHFLX.mean('lon'))-(-data_control.FLNS.mean('lon')+data_control.FSNS.mean('lon')-data_control.SHFLX.mean('lon')-data_control.LHFLX.mean('lon'))\n",
    "\n",
    "#TOA\n",
    "TOA_pole = (data_pole.FSNT.mean('lon')-data_pole.FLNT.mean('lon'))-(data_control.FSNT.mean('lon')-data_control.FLNT.mean('lon'))\n",
    "TOA_00 = (data_00.FSNT.mean('lon')-data_00.FLNT.mean('lon'))-(data_control.FSNT.mean('lon')-data_control.FLNT.mean('lon'))\n",
    "TOA_15 = (data_15.FSNT.mean('lon')-data_15.FLNT.mean('lon'))-(data_control.FSNT.mean('lon')-data_control.FLNT.mean('lon'))\n",
    "TOA_30 = (data_30.FSNT.mean('lon')-data_30.FLNT.mean('lon'))-(data_control.FSNT.mean('lon')-data_control.FLNT.mean('lon'))\n",
    "TOA_45 = (data_extratropic.FSNT.mean('lon')-data_extratropic.FLNT.mean('lon'))-(data_control.FSNT.mean('lon')-data_control.FLNT.mean('lon'))\n",
    "TOA_60 = (data_60.FSNT.mean('lon')-data_60.FLNT.mean('lon'))-(data_control.FSNT.mean('lon')-data_control.FLNT.mean('lon'))\n",
    "TOA_75 = (data_75.FSNT.mean('lon')-data_75.FLNT.mean('lon'))-(data_control.FSNT.mean('lon')-data_control.FLNT.mean('lon'))\n"
   ]
  },
  {
   "cell_type": "code",
   "execution_count": null,
   "id": "f2f9e432-88a9-48c7-86e6-30286bda79c9",
   "metadata": {},
   "outputs": [],
   "source": [
    "Qs_pole.plot(color='black', label='90 patch')\n",
    "Qs_00.plot(color='teal',label='00 patch')\n",
    "Qs_15.plot(color='pink',label='15 patch')\n",
    "Qs_30.plot(color='brown',label='30 patch')\n",
    "Qs_45.plot(color='yellow',label='45 patch')\n",
    "Qs_60.plot(color='red',label='60 patch')\n",
    "Qs_75.plot(color='green',label='75 patch')\n",
    "plt.legend(loc='upper right')"
   ]
  },
  {
   "cell_type": "code",
   "execution_count": null,
   "id": "b5a02933-13c6-4686-b370-69e12eaa4293",
   "metadata": {},
   "outputs": [],
   "source": [
    "TOA_pole.plot(color='black',label='90 patch')\n",
    "TOA_00.plot(color='teal',label='00 patch')\n",
    "TOA_15.plot(color='pink',label='15 patch')\n",
    "TOA_30.plot(color='brown',label='30 patch')\n",
    "TOA_45.plot(color='yellow',label='45 patch')\n",
    "TOA_60.plot(color='red',label='60 patch')\n",
    "TOA_75.plot(color='green',label='75 patch')\n",
    "plt.legend(loc='upper left')"
   ]
  },
  {
   "cell_type": "code",
   "execution_count": null,
   "id": "53e9e973-98af-4e38-a86b-426a95c73724",
   "metadata": {},
   "outputs": [],
   "source": [
    "Qs_control= -data_control.FLNS.mean('lon')+data_control.FSNS.mean('lon')+data_control.SHFLX.mean('lon')+data_control.LHFLX.mean('lon')\n"
   ]
  },
  {
   "cell_type": "code",
   "execution_count": null,
   "id": "87eea75d-3713-447c-9a8b-ff8485feeca0",
   "metadata": {},
   "outputs": [],
   "source": [
    "Qs_control.plot(color='green',label='control')\n"
   ]
  },
  {
   "cell_type": "code",
   "execution_count": null,
   "id": "f1c98926-8acb-45ff-80ae-6b1130f97478",
   "metadata": {},
   "outputs": [],
   "source": [
    "Qa_pole=Qs_pole-TOA_pole\n",
    "Qa_pole.plot(color='black',label='Qa')\n",
    "TOA_pole.plot(color='red',label='TOA')\n",
    "Qs_pole.plot(color='green', label='Qs')\n",
    "plt.legend(loc='upper right')\n",
    "plt.title(\"Pole patch\")\n"
   ]
  },
  {
   "cell_type": "code",
   "execution_count": null,
   "id": "3cc0b33c-ad2c-49b8-b413-87358584d95e",
   "metadata": {},
   "outputs": [],
   "source": [
    "Qa_00=Qs_00-TOA_00\n",
    "Qa_00.plot(color='black',label='Qa')\n",
    "TOA_00.plot(color='red',label='TOA')\n",
    "Qs_00.plot(color='green', label='Qs')\n",
    "plt.legend(loc='upper right')\n",
    "plt.title(\"Equator Patch\")\n"
   ]
  },
  {
   "cell_type": "code",
   "execution_count": null,
   "id": "dcf332fc-93b0-4459-9583-8ddcc3252e38",
   "metadata": {},
   "outputs": [],
   "source": [
    "Qa_15=Qs_15-TOA_15\n",
    "Qa_15.plot(color='black',label='Qa')\n",
    "TOA_15.plot(color='red',label='TOA')\n",
    "Qs_15.plot(color='green', label='Qs')\n",
    "plt.legend(loc='upper right')\n",
    "plt.title(\"15 deg Patch\")\n"
   ]
  },
  {
   "cell_type": "code",
   "execution_count": null,
   "id": "34fc1c1c-5f13-4d67-beb8-9675a5085052",
   "metadata": {},
   "outputs": [],
   "source": [
    "Qa_30=Qs_30-TOA_30\n",
    "Qa_30.plot(color='green',label='Qa')\n",
    "TOA_30.plot(color='black',label='TOA')\n",
    "Qs_30.plot(color='red', label='Qs')\n",
    "plt.legend(loc='upper right')\n",
    "plt.title(\"30 deg Patch\")\n"
   ]
  },
  {
   "cell_type": "code",
   "execution_count": null,
   "id": "9ff3656d-4502-47b0-8b05-ce51af449380",
   "metadata": {},
   "outputs": [],
   "source": [
    "Qa_45=Qs_45-TOA_45\n",
    "Qa_45.plot(color='green',label='Qa')\n",
    "TOA_45.plot(color='black',label='TOA')\n",
    "Qs_45.plot(color='red', label='Qs')\n",
    "plt.legend(loc='upper right')\n",
    "plt.title(\"45 deg Patch\")\n"
   ]
  },
  {
   "cell_type": "code",
   "execution_count": null,
   "id": "08be8095-24b2-4254-9beb-e4b43208d478",
   "metadata": {},
   "outputs": [],
   "source": [
    "Qa_60=Qs_60-TOA_60\n",
    "Qa_60.plot(color='green',label='Qa')\n",
    "TOA_60.plot(color='black',label='TOA')\n",
    "Qs_60.plot(color='red', label='Qs')\n",
    "plt.legend(loc='upper center')\n",
    "plt.title(\"60 deg Patch\")\n"
   ]
  },
  {
   "cell_type": "code",
   "execution_count": null,
   "id": "1a29a2a0-adf8-4e04-bd78-8401519ace35",
   "metadata": {},
   "outputs": [],
   "source": [
    "Qa_75=Qs_75-TOA_75\n",
    "Qa_75.plot(color='green',label='Qa')\n",
    "TOA_75.plot(color='black',label='TOA')\n",
    "Qs_75.plot(color='red', label='Qs')\n",
    "plt.legend(loc='upper center')\n",
    "plt.title(\"75 deg Patch\")\n"
   ]
  },
  {
   "cell_type": "code",
   "execution_count": null,
   "id": "0a3e90ad-785b-4c45-ae6f-67ac34fc4299",
   "metadata": {},
   "outputs": [],
   "source": [
    "T_pole=data_pole.T.mean('lon')-data_control.T.mean('lon')\n",
    "T_pole.plot(vmax=5, vmin=-5,yincrease=False, cmap='RdBu_r')\n",
    "plt.title('Pole patch')"
   ]
  },
  {
   "cell_type": "code",
   "execution_count": null,
   "id": "76c1e6a4-bd00-45aa-a9cc-f75ee866f5aa",
   "metadata": {},
   "outputs": [],
   "source": [
    "T_00=data_00.T.mean('lon')-data_control.T.mean('lon')\n",
    "T_00.plot(vmax=5, vmin=-5,yincrease=False, cmap='RdBu_r')\n",
    "plt.title('Equator patch')"
   ]
  },
  {
   "cell_type": "code",
   "execution_count": null,
   "id": "c20f9b22-7b53-4c52-8739-305a23844996",
   "metadata": {},
   "outputs": [],
   "source": [
    "T_15=data_15.T.mean('lon')-data_control.T.mean('lon')\n",
    "T_15.plot(vmax=5, vmin=-5,yincrease=False, cmap='RdBu_r')\n",
    "plt.title('15 deg patch')"
   ]
  },
  {
   "cell_type": "code",
   "execution_count": null,
   "id": "51c3c1fb-d953-4143-93f0-4b8e98b55dc8",
   "metadata": {},
   "outputs": [],
   "source": [
    "T_30=data_30.T.mean('lon')-data_control.T.mean('lon')\n",
    "T_30.plot(vmax=5, vmin=-5,yincrease=False, cmap='RdBu_r')\n",
    "plt.title('30 patch')"
   ]
  },
  {
   "cell_type": "code",
   "execution_count": null,
   "id": "14d6a2c1-01f7-40eb-b4e9-fedecfb687c4",
   "metadata": {},
   "outputs": [],
   "source": [
    "T_45=data_extratropic.T.mean('lon')-data_control.T.mean('lon')\n",
    "T_45.plot(vmax=5, vmin=-5,yincrease=False, cmap='RdBu_r')\n",
    "plt.title('45 deg patch')"
   ]
  },
  {
   "cell_type": "code",
   "execution_count": null,
   "id": "624f7e5a-b196-44c9-8457-955f4c93f141",
   "metadata": {},
   "outputs": [],
   "source": [
    "T_60=data_60.T.mean('lon')-data_control.T.mean('lon')\n",
    "T_60.plot(vmax=5, vmin=-5,yincrease=False, cmap='RdBu_r')\n",
    "plt.title('60 deg patch')"
   ]
  },
  {
   "cell_type": "code",
   "execution_count": null,
   "id": "eda6b5b6-8ae8-4e5c-ac62-52403d1deec5",
   "metadata": {},
   "outputs": [],
   "source": [
    "T_75=data_75.T.mean('lon')-data_control.T.mean('lon')\n",
    "T_75.plot(vmax=5, vmin=-5,yincrease=False, cmap='RdBu_r')\n",
    "plt.title('75 deg patch')"
   ]
  },
  {
   "cell_type": "code",
   "execution_count": null,
   "id": "223ada79-d29f-4b48-a9d1-a7c5cb5fe070",
   "metadata": {},
   "outputs": [],
   "source": []
  },
  {
   "cell_type": "code",
   "execution_count": null,
   "id": "6e91ca71-cec6-4c5b-a548-ba2a90c8b1fa",
   "metadata": {},
   "outputs": [],
   "source": []
  }
 ],
 "metadata": {
  "kernelspec": {
   "display_name": "Python 3 (ipykernel)",
   "language": "python",
   "name": "python3"
  },
  "language_info": {
   "codemirror_mode": {
    "name": "ipython",
    "version": 3
   },
   "file_extension": ".py",
   "mimetype": "text/x-python",
   "name": "python",
   "nbconvert_exporter": "python",
   "pygments_lexer": "ipython3",
   "version": "3.9.12"
  }
 },
 "nbformat": 4,
 "nbformat_minor": 5
}
