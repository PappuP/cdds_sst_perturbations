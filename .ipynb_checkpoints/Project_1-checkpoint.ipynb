{
 "cells": [
  {
   "cell_type": "code",
   "execution_count": 2,
   "id": "67b84de6-4799-49e3-8191-3554848d8429",
   "metadata": {},
   "outputs": [],
   "source": [
    "from netCDF4 import Dataset as NetCDFFile\n",
    "import matplotlib.pyplot as plt\n",
    "import numpy as np\n",
    "import xarray as xr\n",
    "import netCDF4 as nc\n",
    "from netCDF4 import Dataset\n",
    "from matplotlib import gridspec\n",
    "from mpl_toolkits.axes_grid1 import ImageGrid\n",
    "import pylab"
   ]
  },
  {
   "cell_type": "code",
   "execution_count": null,
   "id": "9ebe32a3",
   "metadata": {},
   "outputs": [],
   "source": [
    "data_control = xr.open_dataset(\"cam5_new.cam.h0.0005-12.nc\") #End of year control\n",
    "\n",
    "data_pole = xr.open_dataset(\"aqua_poleperturb.cam.h0.0005-12.nc\") #End of year experiment-2 extraopical patch\n",
    "data_00 = xr.open_dataset(\"aqua_equator20wide.cam.h0.0005-12.nc\")\n",
    "data_15=xr.open_dataset(\"/data/keeling/a/pappup2/a/CESM/cam_15/CESM_output_data/atm/hist/cam_15.cam.h0.0020-12.nc\")\n",
    "data_30=xr.open_dataset(\"/data/keeling/a/pappup2/a/CESM/cam_30/CESM_output_data/atm/hist/cam_30.cam.h0.0020-12.nc\")\n",
    "data_extratropic=xr.open_dataset(\"/data/keeling/a/pappup2/a/CESM/cam_extratropic/CESM_output_data/atm/hist/cam_extratropic.cam.h0.0020-12.nc\")\n",
    "data_60=xr.open_dataset(\"/data/keeling/a/pappup2/a/CESM/cam_60/CESM_output_data/atm/hist/cam_60.cam.h0.0020-12.nc\")\n",
    "data_75=xr.open_dataset(\"/data/keeling/a/pappup2/a/CESM/cam_75/CESM_output_data/atm/hist/cam_75.cam.h0.0020-12.nc\")\n",
    "\n",
    "#surface_t2 = surface_t_2.mean('lon')\n",
    "TOA_flux_exp_minus_control_pole = (data_pole.FSNT.mean('lon')-data_pole.FLNT.mean('lon'))-(data_control.FSNT.mean('lon')-data_control.FLNT.mean('lon'))\n",
    "TOA_flux_exp_minus_control_equator = (data_00.FSNT.mean('lon')-data_00.FLNT.mean('lon'))-(data_control.FSNT.mean('lon')-data_control.FLNT.mean('lon'))\n"
   ]
  },
  {
   "cell_type": "code",
   "execution_count": 7,
   "id": "c48e8ded-ca6b-4987-bb36-38868490cdba",
   "metadata": {},
   "outputs": [],
   "source": [
    "pp_pole=np.array(TOA_flux_exp_minus_control_pole[0,:])\n",
    "#zp= pp.transpose()\n",
    "exp_pole=np.linspace(85,90,96)\n",
    "plat_pole=np.array(TOA_flux_exp_minus_control_pole.lat)\n",
    "expp_pole, ppp_pole=np.meshgrid(exp_pole, pp_pole)\n",
    "#plt.figure(figsize=(10,3))\n",
    "\n",
    "pp_equator=np.array(TOA_flux_exp_minus_control_equator[0,:])\n",
    "#zp= pp.transpose()\n",
    "exp_equator=np.linspace(0,10,96)\n",
    "plat_equator=np.array(TOA_flux_exp_minus_control_equator.lat)\n",
    "expp_equator, ppp_equator=np.meshgrid(exp_pole, pp_pole)"
   ]
  },
  {
   "cell_type": "code",
   "execution_count": 22,
   "id": "965b4672-6e4e-4794-b2c9-4dd130b36725",
   "metadata": {},
   "outputs": [
    {
     "data": {
      "image/png": "[encoded data removed]",
      "text/plain": [
       "<Figure size 576x288 with 6 Axes>"
      ]
     },
     "metadata": {
      "needs_background": "light"
     },
     "output_type": "display_data"
    }
   ],
   "source": [
    "nrow = 1\n",
    "ncol = 3\n",
    "fig = plt.figure(figsize=(8, 4))\n",
    "grid = ImageGrid(fig, \n",
    "                 111, # as in plt.subplot(111)\n",
    "                 nrows_ncols=(nrow,ncol),\n",
    "                 axes_pad=0,\n",
    "                 share_all=True,)\n",
    "\n",
    "#for i in range(1):\n",
    "#    for j in range(2):\n",
    "im = np.random.rand(28,28)\n",
    "gs = gridspec.GridSpec(2, 2)\n",
    "gs.update(wspace=0)\n",
    "\n",
    "plt.subplot(gs[0,0])\n",
    "plt.pcolormesh(expp_equator,plat_equator,ppp_equator,cmap='RdBu_r',vmin=-40, vmax=20)\n",
    "plt.xticks([])\n",
    "plt.xlabel(\"equator\")\n",
    "\n",
    "plt.subplot(gs[0,1])\n",
    "plt.pcolormesh(expp_pole,plat_pole,ppp_pole,cmap='RdBu_r',vmin=-40, vmax=20)\n",
    "plt.xticks([])\n",
    "plt.xlabel(\"pole patch\")\n",
    "ax = pylab.gca()\n",
    "ax.yaxis.set_visible(False)\n",
    "\n",
    "\n",
    "\n",
    "# Get the current axis\n",
    "ax = pylab.gca()\n",
    "# Set Y-axis visibility to False\n",
    "ax.yaxis.set_visible(False)\n",
    "\n",
    "#        plt.set_yticklabels([])\n",
    "\n",
    "#plt.tight_layout() # do not use this!!\n",
    "plt.subplot(gs[0,1])\n",
    "plt.colorbar()\n",
    "plt.show()\n"
   ]
  },
  {
   "cell_type": "code",
   "execution_count": null,
   "id": "ba21b5f4-845b-4807-81c6-f4b13f430ff5",
   "metadata": {},
   "outputs": [],
   "source": []
  }
 ],
 "metadata": {
  "kernelspec": {
   "display_name": "Python 3 (ipykernel)",
   "language": "python",
   "name": "python3"
  },
  "language_info": {
   "codemirror_mode": {
    "name": "ipython",
    "version": 3
   },
   "file_extension": ".py",
   "mimetype": "text/x-python",
   "name": "python",
   "nbconvert_exporter": "python",
   "pygments_lexer": "ipython3",
   "version": "3.10.4"
  }
 },
 "nbformat": 4,
 "nbformat_minor": 5
}
